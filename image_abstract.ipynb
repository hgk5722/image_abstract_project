{
 "cells": [
  {
   "cell_type": "code",
   "execution_count": 12,
   "metadata": {},
   "outputs": [],
   "source": [
    "import cv2 as cv\n",
    "import imutils\n",
    "import numpy as np\n",
    "import json"
   ]
  },
  {
   "cell_type": "code",
   "execution_count": 8,
   "metadata": {},
   "outputs": [
    {
     "name": "stdout",
     "output_type": "stream",
     "text": [
      "데이터가 추가되었습니다.\n",
      "데이터가 추가되었습니다.\n"
     ]
    },
    {
     "name": "stderr",
     "output_type": "stream",
     "text": [
      "C:\\Users\\admin\\AppData\\Local\\Temp\\ipykernel_18400\\2372463074.py:37: RuntimeWarning: Mean of empty slice.\n",
      "  rgb_color = roi_color.mean(axis=0).mean(axis=0).astype(int)  # ROI의 평균 RGB 계산\n",
      "c:\\Users\\admin\\AppData\\Local\\Programs\\Python\\Python311\\Lib\\site-packages\\numpy\\core\\_methods.py:184: RuntimeWarning: invalid value encountered in divide\n",
      "  ret = um.true_divide(\n",
      "C:\\Users\\admin\\AppData\\Local\\Temp\\ipykernel_18400\\2372463074.py:37: RuntimeWarning: invalid value encountered in cast\n",
      "  rgb_color = roi_color.mean(axis=0).mean(axis=0).astype(int)  # ROI의 평균 RGB 계산\n"
     ]
    },
    {
     "name": "stdout",
     "output_type": "stream",
     "text": [
      "데이터가 추가되었습니다.\n",
      "데이터가 output.json 파일에 저장되었습니다.\n"
     ]
    }
   ],
   "source": [
    "import cv2\n",
    "import json\n",
    "\n",
    "drawing = False  # 드래그를 시작하려면 True로 설정, 마우스 이벤트 처리용\n",
    "pts_list = []  # 드래그한 좌표 리스트를 저장할 리스트\n",
    "id_counter = 1  # id를 할당할 카운터 변수\n",
    "\n",
    "def draw_rectangle(event, x, y, flags, param):\n",
    "    global pts, drawing\n",
    "\n",
    "    if event == cv2.EVENT_LBUTTONDOWN:\n",
    "        drawing = True\n",
    "        pts = [(x, y)]\n",
    "\n",
    "    elif event == cv2.EVENT_LBUTTONUP:\n",
    "        drawing = False\n",
    "        pts.append((x, y))\n",
    "        cv2.rectangle(img, pts[0], pts[1], (0, 255, 0), 2)\n",
    "        cv2.imshow('image', img)\n",
    "\n",
    "# 이미지 파일 불러오기\n",
    "img = cv2.imread('./handWrite1.jpg')\n",
    "cv2.namedWindow('image')\n",
    "cv2.setMouseCallback('image', draw_rectangle)\n",
    "\n",
    "while True:\n",
    "    cv2.imshow('image', img)\n",
    "    key = cv2.waitKey(1) & 0xFF\n",
    "\n",
    "    if key == 27:  # ESC 키를 누르면 종료\n",
    "        break\n",
    "    elif key == ord('s') and len(pts) == 2:  # 's' 키를 누르면 데이터를 저장하고 추가\n",
    "        label = input(\"라벨을 입력하세요: \")\n",
    "        if label:\n",
    "            x1, y1, x2, y2 = pts[0][0], pts[0][1], pts[1][0], pts[1][1]\n",
    "            roi_color = img[y1:y2, x1:x2]\n",
    "            rgb_color = roi_color.mean(axis=0).mean(axis=0).astype(int)  # ROI의 평균 RGB 계산\n",
    "            color_info = {\n",
    "                'red': int(rgb_color[2]),\n",
    "                'green': int(rgb_color[1]),\n",
    "                'blue': int(rgb_color[0])\n",
    "            }\n",
    "            coordinates_info = {\n",
    "                'x1': x1,\n",
    "                'y1': y1,\n",
    "                'x2': x2,\n",
    "                'y2': y2\n",
    "            }\n",
    "            data = {\n",
    "                'id': f'{id_counter:03}',  # 3자리 숫자로 포맷 지정\n",
    "                'color': color_info,\n",
    "                'coordinates': coordinates_info,\n",
    "                'label': label\n",
    "            }\n",
    "            pts_list.append(data)\n",
    "            id_counter += 1  # id 카운터 증가\n",
    "            print(\"데이터가 추가되었습니다.\")\n",
    "        else:\n",
    "            print(\"라벨을 입력하지 않아 데이터를 추가하지 않습니다.\")\n",
    "    elif key == ord('q'):  # 'q' 키를 누르면 JSON 파일에 저장하고 종료\n",
    "        with open('output.json', 'w') as json_file:\n",
    "            json.dump(pts_list, json_file, indent=4)\n",
    "        print(\"데이터가 output.json 파일에 저장되었습니다.\")\n",
    "        break\n",
    "\n",
    "cv2.destroyAllWindows()\n"
   ]
  },
  {
   "cell_type": "code",
   "execution_count": 9,
   "metadata": {},
   "outputs": [
    {
     "data": {
      "text/plain": [
       "[{'id': '001',\n",
       "  'color': {'red': 195, 'green': 199, 'blue': 195},\n",
       "  'coordinates': {'x1': 140, 'y1': 177, 'x2': 456, 'y2': 525},\n",
       "  'label': '이'},\n",
       " {'id': '002',\n",
       "  'color': {'red': 184, 'green': 188, 'blue': 184},\n",
       "  'coordinates': {'x1': 856, 'y1': 145, 'x2': 1232, 'y2': 502},\n",
       "  'label': '찬'},\n",
       " {'id': '003',\n",
       "  'color': {'red': -2147483648, 'green': -2147483648, 'blue': -2147483648},\n",
       "  'coordinates': {'x1': 110, 'y1': 393, 'x2': 113, 'y2': 392},\n",
       "  'label': '녕'}]"
      ]
     },
     "execution_count": 9,
     "metadata": {},
     "output_type": "execute_result"
    }
   ],
   "source": [
    "pts_list"
   ]
  },
  {
   "cell_type": "code",
   "execution_count": 3,
   "metadata": {},
   "outputs": [
    {
     "name": "stdout",
     "output_type": "stream",
     "text": [
      "데이터가 추가되었습니다.\n",
      "데이터가 추가되었습니다.\n",
      "데이터가 추가되었습니다.\n",
      "데이터가 output.json 파일에 저장되었습니다.\n"
     ]
    }
   ],
   "source": [
    "import cv2\n",
    "import json\n",
    "\n",
    "drawing = False  # 드래그를 시작하려면 True로 설정, 마우스 이벤트 처리용\n",
    "pts_list = []  # 드래그한 좌표 리스트를 저장할 리스트\n",
    "id_counter = 1  # id를 할당할 카운터 변수\n",
    "\n",
    "def draw_rectangle(event, x, y, flags, param):\n",
    "    global pts, drawing\n",
    "\n",
    "    if event == cv2.EVENT_LBUTTONDOWN:\n",
    "        drawing = True\n",
    "        pts = [(x, y)]\n",
    "\n",
    "    elif event == cv2.EVENT_LBUTTONUP:\n",
    "        drawing = False\n",
    "        pts.append((x, y))\n",
    "        cv2.rectangle(img, pts[0], pts[1], (0, 255, 0), 2)\n",
    "        cv2.imshow('image', img)\n",
    "\n",
    "# 이미지 파일 불러오기\n",
    "img = cv2.imread('./handWrite1.jpg')\n",
    "cv2.namedWindow('image')\n",
    "cv2.setMouseCallback('image', draw_rectangle)\n",
    "\n",
    "while True:\n",
    "    cv2.imshow('image', img)\n",
    "    key = cv2.waitKey(1) & 0xFF\n",
    "\n",
    "    if key == 27:  # ESC 키를 누르면 종료\n",
    "        break\n",
    "    elif key == ord('s') and len(pts) == 2:  # 's' 키를 누르면 데이터를 저장하고 추가\n",
    "        label = input(\"라벨을 입력하세요: \")\n",
    "        if label:\n",
    "            x1, y1, x2, y2 = pts[0][0], pts[0][1], pts[1][0], pts[1][1]\n",
    "            roi_color = img[y1:y2, x1:x2]\n",
    "            rgb_color = roi_color.mean(axis=0).mean(axis=0).astype(int)  # ROI의 평균 RGB 계산\n",
    "            data = {\n",
    "                'id': f'{id_counter:03}',  # 3자리 숫자로 포맷 지정\n",
    "                'red': int(rgb_color[2]),\n",
    "                'green': int(rgb_color[1]),\n",
    "                'blue': int(rgb_color[0]),\n",
    "                'x1': x1,\n",
    "                'y1': y1,\n",
    "                'x2': x2,\n",
    "                'y2': y2,\n",
    "                'label': label\n",
    "            }\n",
    "            pts_list.append(data)\n",
    "            id_counter += 1  # id 카운터 증가\n",
    "            print(\"데이터가 추가되었습니다.\")\n",
    "        else:\n",
    "            print(\"라벨을 입력하지 않아 데이터를 추가하지 않습니다.\")\n",
    "    elif key == ord('q'):  # 'q' 키를 누르면 JSON 파일에 저장하고 종료\n",
    "        with open('output.json', 'w') as json_file:\n",
    "            json.dump({'result': True, 'data': pts_list}, json_file, indent=4)\n",
    "        print(\"데이터가 output.json 파일에 저장되었습니다.\")\n",
    "        break\n",
    "\n",
    "cv2.destroyAllWindows()\n"
   ]
  },
  {
   "cell_type": "code",
   "execution_count": 4,
   "metadata": {},
   "outputs": [
    {
     "data": {
      "text/plain": [
       "[{'id': '001',\n",
       "  'red': 199,\n",
       "  'green': 204,\n",
       "  'blue': 199,\n",
       "  'x1': 144,\n",
       "  'y1': 179,\n",
       "  'x2': 463,\n",
       "  'y2': 554,\n",
       "  'label': '미'},\n",
       " {'id': '002',\n",
       "  'red': 200,\n",
       "  'green': 204,\n",
       "  'blue': 200,\n",
       "  'x1': 384,\n",
       "  'y1': 664,\n",
       "  'x2': 707,\n",
       "  'y2': 1178,\n",
       "  'label': '폰'},\n",
       " {'id': '003',\n",
       "  'red': 205,\n",
       "  'green': 209,\n",
       "  'blue': 205,\n",
       "  'x1': 835,\n",
       "  'y1': 136,\n",
       "  'x2': 1260,\n",
       "  'y2': 597,\n",
       "  'label': '체'}]"
      ]
     },
     "execution_count": 4,
     "metadata": {},
     "output_type": "execute_result"
    }
   ],
   "source": [
    "pts_list"
   ]
  }
 ],
 "metadata": {
  "kernelspec": {
   "display_name": "Python 3",
   "language": "python",
   "name": "python3"
  },
  "language_info": {
   "codemirror_mode": {
    "name": "ipython",
    "version": 3
   },
   "file_extension": ".py",
   "mimetype": "text/x-python",
   "name": "python",
   "nbconvert_exporter": "python",
   "pygments_lexer": "ipython3",
   "version": "3.11.4"
  }
 },
 "nbformat": 4,
 "nbformat_minor": 2
}
